{
 "cells": [
  {
   "cell_type": "markdown",
   "metadata": {},
   "source": [
    "## Model Training \n"
   ]
  },
  {
   "cell_type": "code",
   "execution_count": null,
   "metadata": {
    "colab": {
     "base_uri": "https://localhost:8080/"
    },
    "execution": {
     "iopub.execute_input": "2023-03-01T09:55:23.879680Z",
     "iopub.status.busy": "2023-03-01T09:55:23.879282Z",
     "iopub.status.idle": "2023-03-01T10:12:35.407864Z",
     "shell.execute_reply": "2023-03-01T10:12:35.406556Z",
     "shell.execute_reply.started": "2023-03-01T09:55:23.879650Z"
    },
    "id": "QAeNx0xaw9V8",
    "outputId": "996028b1-0463-418d-a258-39cff54ddc92",
    "tags": []
   },
   "outputs": [
    {
     "name": "stdout",
     "output_type": "stream",
     "text": [
      "unknown option --data\n",
      "usage: python [option] ... [-c cmd | -m mod | file | -] [arg] ...\n",
      "Try `python -h' for more information.\n"
     ]
    }
   ],
   "source": [
    "!python /notebooks/DSPS23/train_dsps.py --data /Users/elman/DSPS23_Competition/yolov8.yaml --epochs 200 --weights yolov5s.pt --optimizer Adam --cfg yolov5s.yaml  --batch-size 64"
   ]
  },
  {
   "cell_type": "code",
   "execution_count": 7,
   "metadata": {
    "execution": {
     "iopub.execute_input": "2023-03-01T04:19:12.717318Z",
     "iopub.status.busy": "2023-03-01T04:19:12.716178Z",
     "iopub.status.idle": "2023-03-01T04:19:12.734198Z",
     "shell.execute_reply": "2023-03-01T04:19:12.732951Z",
     "shell.execute_reply.started": "2023-03-01T04:19:12.717264Z"
    }
   },
   "outputs": [
    {
     "data": {
      "text/plain": [
       "104"
      ]
     },
     "execution_count": 7,
     "metadata": {},
     "output_type": "execute_result"
    }
   ],
   "source": [
    "len(os.listdir('/notebooks/test/images'))"
   ]
  },
  {
   "cell_type": "markdown",
   "metadata": {},
   "source": [
    "## Inference\n",
    "\n",
    "> We perform Inference on our test data and see how it is performing \n",
    ">\n",
    "> Detection is being implemented at a confidence of `0.655` "
   ]
  },
  {
   "cell_type": "code",
   "execution_count": 2,
   "metadata": {
    "execution": {
     "iopub.execute_input": "2023-03-01T12:09:00.975196Z",
     "iopub.status.busy": "2023-03-01T12:09:00.974266Z",
     "iopub.status.idle": "2023-03-01T12:09:20.114001Z",
     "shell.execute_reply": "2023-03-01T12:09:20.113154Z",
     "shell.execute_reply.started": "2023-03-01T12:09:00.975123Z"
    }
   },
   "outputs": [
    {
     "name": "stdout",
     "output_type": "stream",
     "text": [
      "\u001b[34m\u001b[1mdetect_dsps2: \u001b[0mweights=['/notebooks/DSPS23/runs/train/exp12/weights/best.pt'], source=/notebooks/test/images, data=DSPS23/data/coco128.yaml, imgsz=[640, 640], conf_thres=0.655, iou_thres=0.45, max_det=1000, device=, view_img=False, save_txt=False, save_conf=False, save_crop=False, nosave=False, classes=None, agnostic_nms=False, augment=True, visualize=False, update=False, project=DSPS23/runs/detect, name=exp, exist_ok=False, line_thickness=3, hide_labels=False, hide_conf=False, half=False, dnn=False, vid_stride=1\n",
      "YOLOv5 🚀 10d8d33 Python-3.9.13 torch-1.12.0+cu116 CUDA:0 (Quadro P4000, 8120MiB)\n",
      "\n",
      "Fusing layers... \n",
      "YOLOv5s summary: 157 layers, 7058671 parameters, 0 gradients\n",
      "Speed: 0.4ms pre-process, 30.7ms inference, 0.5ms NMS per image at shape (1, 3, 640, 640)\n",
      "Results saved to \u001b[1mDSPS23/runs/detect/exp23\u001b[0m\n"
     ]
    }
   ],
   "source": [
    "!python /notebooks/DSPS23/detect_dsps2.py --weights /notebooks/DSPS23/runs/train/exp12/weights/best.pt --conf 0.655  --augment  --source /notebooks/test/images"
   ]
  }
 ],
 "metadata": {
  "accelerator": "GPU",
  "colab": {
   "provenance": []
  },
  "gpuClass": "standard",
  "kernelspec": {
   "display_name": "Python 3 (ipykernel)",
   "language": "python",
   "name": "python3"
  },
  "language_info": {
   "codemirror_mode": {
    "name": "ipython",
    "version": 3
   },
   "file_extension": ".py",
   "mimetype": "text/x-python",
   "name": "python",
   "nbconvert_exporter": "python",
   "pygments_lexer": "ipython3",
   "version": "3.9.13"
  }
 },
 "nbformat": 4,
 "nbformat_minor": 4
}
